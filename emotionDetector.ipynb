{
 "cells": [
  {
   "cell_type": "code",
   "execution_count": 2,
   "metadata": {},
   "outputs": [
    {
     "name": "stdout",
     "output_type": "stream",
     "text": [
      "Pipeline SVM Accuracy: 0.6257\n",
      " Model and Label Encoder saved successfully!\n"
     ]
    }
   ],
   "source": [
    "import pandas as pd\n",
    "import neattext as nt\n",
    "from sklearn.model_selection import train_test_split\n",
    "from sklearn.feature_extraction.text import CountVectorizer\n",
    "from sklearn.svm import SVC\n",
    "from sklearn.calibration import CalibratedClassifierCV\n",
    "from sklearn.preprocessing import LabelEncoder\n",
    "from sklearn.pipeline import Pipeline\n",
    "from joblib import dump\n",
    "\n",
    "# Load dataset\n",
    "df = pd.read_csv(\"emotion_dataset_raw.csv\")\n",
    "\n",
    "# Text preprocessing\n",
    "def clean_text(text):\n",
    "    text = nt.TextFrame(text).clean_text().lower()\n",
    "    return text\n",
    "\n",
    "df['cleaned_text'] = df['Text'].apply(clean_text)\n",
    "\n",
    "# Label encoding\n",
    "label_encoder = LabelEncoder()\n",
    "y = label_encoder.fit_transform(df['Emotion'])  # Fit and transform labels\n",
    "\n",
    "# Save the label encoder\n",
    "dump(label_encoder, 'label_encoder.joblib')  # Save the encoder for later use\n",
    "\n",
    "# Split data\n",
    "X_train, X_test, y_train, y_test = train_test_split(df['cleaned_text'], y, test_size=0.2, stratify=y, random_state=42)\n",
    "\n",
    "#  Define a pipeline with CountVectorizer and Calibrated SVM\n",
    "svc = SVC(kernel='rbf', C=1.5)  # No probability=True\n",
    "calibrated_svc = CalibratedClassifierCV(svc, cv=3)  # Calibrate probabilities\n",
    "\n",
    "pipe_svm = Pipeline(steps=[('cv', CountVectorizer(ngram_range=(1,2), max_features=10000, stop_words='english')),\n",
    "                            ('svc', calibrated_svc)])\n",
    "\n",
    "# Define a pipeline using CountVectorizer and SVM\n",
    "# pipe_svm = Pipeline(steps=[('cv', CountVectorizer(ngram_range=(1,2), max_features=10000, stop_words='english')),\n",
    "#                            ('svc', SVC(kernel='rbf', C=1.5, probability=True))])\n",
    "\n",
    "# Train the pipeline\n",
    "pipe_svm.fit(X_train, y_train)\n",
    "\n",
    "# Evaluate Model\n",
    "accuracy = pipe_svm.score(X_test, y_test)\n",
    "print(f'Pipeline SVM Accuracy: {accuracy:.4f}')\n",
    "\n",
    "# Save the pipeline\n",
    "dump(pipe_svm, 'svm_pipeline.joblib')\n",
    "\n",
    "\n"
   ]
  }
 ],
 "metadata": {
  "kernelspec": {
   "display_name": "base",
   "language": "python",
   "name": "python3"
  },
  "language_info": {
   "codemirror_mode": {
    "name": "ipython",
    "version": 3
   },
   "file_extension": ".py",
   "mimetype": "text/x-python",
   "name": "python",
   "nbconvert_exporter": "python",
   "pygments_lexer": "ipython3",
   "version": "3.12.4"
  }
 },
 "nbformat": 4,
 "nbformat_minor": 2
}
